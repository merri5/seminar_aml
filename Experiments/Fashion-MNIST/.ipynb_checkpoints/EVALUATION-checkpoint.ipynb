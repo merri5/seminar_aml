{
 "cells": [
  {
   "cell_type": "code",
   "execution_count": 1,
   "metadata": {},
   "outputs": [],
   "source": [
    "import train_fashion_mnist\n",
    "import evaluate_fashion_mnist\n",
    "import fashion_mnist_net"
   ]
  },
  {
   "cell_type": "code",
   "execution_count": 1,
   "metadata": {},
   "outputs": [
    {
     "name": "stderr",
     "output_type": "stream",
     "text": [
      "[2020/12/11 17:27:59] - Namespace(alpha=0.25, attack='fgsm', attack_iters=40, batch_size=100, data_dir='data', epochs=10, epsilon=0.2, fname='models/fgsm_e02.pth', lr_max=0.005, lr_type='cyclic', seed=0)\n",
      "[2020/12/11 17:28:01] - Epoch \t Time \t LR \t \t Train Loss \t Train Acc\n",
      "[2020/12/11 17:28:13] - 0 \t 11.6 \t 0.0013 \t 1.6667 \t 0.3491\n",
      "[2020/12/11 17:28:23] - 1 \t 9.8 \t 0.0025 \t 1.1364 \t 0.5342\n",
      "[2020/12/11 17:28:33] - 2 \t 10.0 \t 0.0037 \t 0.9250 \t 0.6229\n",
      "[2020/12/11 17:28:43] - 3 \t 10.0 \t 0.0050 \t 0.8484 \t 0.6603\n",
      "[2020/12/11 17:28:53] - 4 \t 10.0 \t 0.0042 \t 0.7390 \t 0.7023\n",
      "[2020/12/11 17:29:03] - 5 \t 9.9 \t 0.0033 \t 0.5984 \t 0.7689\n",
      "[2020/12/11 17:29:12] - 6 \t 9.8 \t 0.0025 \t 0.5122 \t 0.8102\n",
      "[2020/12/11 17:29:23] - 7 \t 10.1 \t 0.0017 \t 0.5027 \t 0.8121\n",
      "[2020/12/11 17:29:32] - 8 \t 9.8 \t 0.0008 \t 0.4534 \t 0.8335\n",
      "[2020/12/11 17:29:42] - 9 \t 9.8 \t 0.0000 \t 0.3924 \t 0.8604\n"
     ]
    }
   ],
   "source": [
    "%run train_fashion_mnist.py --fname models/fgsm_e02.pth --attack \"fgsm\" --epsilon 0.2 --alpha 0.25"
   ]
  },
  {
   "cell_type": "code",
   "execution_count": 2,
   "metadata": {},
   "outputs": [
    {
     "name": "stderr",
     "output_type": "stream",
     "text": [
      "[2020/12/11 17:29:45] - Namespace(alpha=0.25, attack='none', attack_iters=50, batch_size=100, data_dir='data', epsilon=0.2, fname='models/fgsm_e02.pth', restarts=10, seed=0)\n",
      "[2020/12/11 17:29:46] - Test Loss: 0.7318, Acc: 0.7673\n",
      "[2020/12/11 17:29:46] - Namespace(alpha=0.25, attack='fgsm', attack_iters=50, batch_size=100, data_dir='data', epsilon=0.2, fname='models/fgsm_e02.pth', restarts=10, seed=0)\n",
      "[2020/12/11 17:29:48] - Test Loss: 0.4690, Acc: 0.8391\n",
      "[2020/12/11 17:29:48] - Namespace(alpha=0.25, attack='fgsm_fast', attack_iters=50, batch_size=100, data_dir='data', epsilon=0.2, fname='models/fgsm_e02.pth', restarts=10, seed=0)\n",
      "[2020/12/11 17:29:49] - Test Loss: 2.1486, Acc: 0.3201\n",
      "[2020/12/11 17:29:49] - Namespace(alpha=0.25, attack='pgd', attack_iters=50, batch_size=100, data_dir='data', epsilon=0.2, fname='models/fgsm_e02.pth', restarts=10, seed=0)\n",
      "[2020/12/11 17:32:04] - Test Loss: 4.0650, Acc: 0.0006\n"
     ]
    }
   ],
   "source": [
    "%run evaluate_fashion_mnist.py --fname models/fgsm_e02.pth --attack \"none\" --epsilon 0.2 --alpha 0.25\n",
    "%run evaluate_fashion_mnist.py --fname models/fgsm_e02.pth --attack \"fgsm\" --epsilon 0.2 --alpha 0.25\n",
    "%run evaluate_fashion_mnist.py --fname models/fgsm_e02.pth --attack \"fgsm_fast\" --epsilon 0.2 --alpha 0.25\n",
    "%run evaluate_fashion_mnist.py --fname models/fgsm_e02.pth --attack \"pgd\" --epsilon 0.2 --alpha 0.25"
   ]
  },
  {
   "cell_type": "code",
   "execution_count": 3,
   "metadata": {},
   "outputs": [
    {
     "name": "stderr",
     "output_type": "stream",
     "text": [
      "[2020/12/10 22:20:28] - Namespace(alpha=0.25, attack='fgsm_fast', attack_iters=40, batch_size=100, data_dir='data', epochs=10, epsilon=0.2, fname='models/fgsm_fast_e02.pth', lr_max=0.005, lr_type='cyclic', seed=0)\n",
      "[2020/12/10 22:20:30] - Epoch \t Time \t LR \t \t Train Loss \t Train Acc\n",
      "[2020/12/10 22:20:46] - 0 \t 16.2 \t 0.0013 \t 1.6023 \t 0.3819\n",
      "[2020/12/10 22:20:55] - 1 \t 9.5 \t 0.0025 \t 1.0759 \t 0.5702\n",
      "[2020/12/10 22:21:05] - 2 \t 9.6 \t 0.0037 \t 0.9155 \t 0.6266\n",
      "[2020/12/10 22:21:15] - 3 \t 9.6 \t 0.0050 \t 0.7624 \t 0.6868\n",
      "[2020/12/10 22:21:24] - 4 \t 9.7 \t 0.0042 \t 0.6629 \t 0.7322\n",
      "[2020/12/10 22:21:34] - 5 \t 9.5 \t 0.0033 \t 0.6015 \t 0.7585\n",
      "[2020/12/10 22:21:43] - 6 \t 9.5 \t 0.0025 \t 0.5683 \t 0.7736\n",
      "[2020/12/10 22:21:53] - 7 \t 9.7 \t 0.0017 \t 0.5450 \t 0.7827\n",
      "[2020/12/10 22:22:03] - 8 \t 9.7 \t 0.0008 \t 0.5163 \t 0.7941\n",
      "[2020/12/10 22:22:12] - 9 \t 9.5 \t 0.0000 \t 0.5048 \t 0.7979\n"
     ]
    }
   ],
   "source": [
    "%run train_fashion_mnist.py --fname models/fgsm_fast_e02.pth --attack \"fgsm_fast\" --epsilon 0.2 --alpha 0.25"
   ]
  },
  {
   "cell_type": "code",
   "execution_count": 4,
   "metadata": {},
   "outputs": [
    {
     "name": "stderr",
     "output_type": "stream",
     "text": [
      "[2020/12/10 22:22:44] - Namespace(alpha=0.25, attack='none', attack_iters=50, batch_size=100, data_dir='data', epsilon=0.2, fname='models/fgsm_fast_e02.pth', restarts=10, seed=0)\n",
      "[2020/12/10 22:22:45] - Test Loss: 0.4549, Acc: 0.8326\n",
      "[2020/12/10 22:22:45] - Namespace(alpha=0.25, attack='fgsm', attack_iters=50, batch_size=100, data_dir='data', epsilon=0.2, fname='models/fgsm_fast_e02.pth', restarts=10, seed=0)\n",
      "[2020/12/10 22:22:46] - Test Loss: 0.5490, Acc: 0.7872\n",
      "[2020/12/10 22:22:46] - Namespace(alpha=0.25, attack='fgsm_fast', attack_iters=50, batch_size=100, data_dir='data', epsilon=0.2, fname='models/fgsm_fast_e02.pth', restarts=10, seed=0)\n",
      "[2020/12/10 22:22:47] - Test Loss: 0.5357, Acc: 0.7881\n",
      "[2020/12/10 22:22:47] - Namespace(alpha=0.25, attack='pgd', attack_iters=50, batch_size=100, data_dir='data', epsilon=0.2, fname='models/fgsm_fast_e02.pth', restarts=10, seed=0)\n",
      "[2020/12/10 22:25:18] - Test Loss: 0.7729, Acc: 0.5967\n"
     ]
    }
   ],
   "source": [
    "%run evaluate_fashion_mnist.py --fname models/fgsm_fast_e02.pth --attack \"none\" --epsilon 0.2 --alpha 0.25\n",
    "%run evaluate_fashion_mnist.py --fname models/fgsm_fast_e02.pth --attack \"fgsm\" --epsilon 0.2 --alpha 0.25\n",
    "%run evaluate_fashion_mnist.py --fname models/fgsm_fast_e02.pth --attack \"fgsm_fast\" --epsilon 0.2 --alpha 0.25\n",
    "%run evaluate_fashion_mnist.py --fname models/fgsm_fast_e02.pth --attack \"pgd\" --epsilon 0.2 --alpha 0.25"
   ]
  },
  {
   "cell_type": "code",
   "execution_count": 5,
   "metadata": {},
   "outputs": [
    {
     "name": "stderr",
     "output_type": "stream",
     "text": [
      "[2020/12/10 22:25:18] - Namespace(alpha=0.25, attack='pgd', attack_iters=40, batch_size=100, data_dir='data', epochs=10, epsilon=0.2, fname='models/pgd_e02.pth', lr_max=0.005, lr_type='cyclic', seed=0)\n",
      "[2020/12/10 22:25:18] - Epoch \t Time \t LR \t \t Train Loss \t Train Acc\n",
      "[2020/12/10 22:27:00] - 0 \t 102.4 \t 0.0013 \t 1.4527 \t 0.2826\n",
      "[2020/12/10 22:28:45] - 1 \t 104.7 \t 0.0025 \t 0.9907 \t 0.4506\n",
      "[2020/12/10 22:30:27] - 2 \t 102.2 \t 0.0037 \t 0.8107 \t 0.5480\n",
      "[2020/12/10 22:32:09] - 3 \t 102.1 \t 0.0050 \t 0.7086 \t 0.6044\n",
      "[2020/12/10 22:33:51] - 4 \t 101.5 \t 0.0042 \t 0.6601 \t 0.6322\n",
      "[2020/12/10 22:35:32] - 5 \t 101.1 \t 0.0033 \t 0.6234 \t 0.6536\n",
      "[2020/12/10 22:37:14] - 6 \t 101.8 \t 0.0025 \t 0.5956 \t 0.6717\n",
      "[2020/12/10 22:38:56] - 7 \t 102.1 \t 0.0017 \t 0.5754 \t 0.6822\n",
      "[2020/12/10 22:40:38] - 8 \t 102.3 \t 0.0008 \t 0.5561 \t 0.6920\n",
      "[2020/12/10 22:42:21] - 9 \t 102.6 \t 0.0000 \t 0.5427 \t 0.7011\n"
     ]
    }
   ],
   "source": [
    "%run train_fashion_mnist.py --fname models/pgd_e02.pth --attack \"pgd\" --epsilon 0.2 --alpha 0.25"
   ]
  },
  {
   "cell_type": "code",
   "execution_count": 6,
   "metadata": {},
   "outputs": [
    {
     "name": "stderr",
     "output_type": "stream",
     "text": [
      "[2020/12/10 22:42:21] - Namespace(alpha=0.25, attack='none', attack_iters=50, batch_size=100, data_dir='data', epsilon=0.2, fname='models/pgd_e02.pth', restarts=10, seed=0)\n",
      "[2020/12/10 22:42:21] - Test Loss: 0.4075, Acc: 0.8445\n",
      "[2020/12/10 22:42:21] - Namespace(alpha=0.25, attack='fgsm', attack_iters=50, batch_size=100, data_dir='data', epsilon=0.2, fname='models/pgd_e02.pth', restarts=10, seed=0)\n",
      "[2020/12/10 22:42:23] - Test Loss: 0.6145, Acc: 0.7638\n",
      "[2020/12/10 22:42:23] - Namespace(alpha=0.25, attack='fgsm_fast', attack_iters=50, batch_size=100, data_dir='data', epsilon=0.2, fname='models/pgd_e02.pth', restarts=10, seed=0)\n",
      "[2020/12/10 22:42:24] - Test Loss: 0.5894, Acc: 0.7743\n",
      "[2020/12/10 22:42:24] - Namespace(alpha=0.25, attack='pgd', attack_iters=50, batch_size=100, data_dir='data', epsilon=0.2, fname='models/pgd_e02.pth', restarts=10, seed=0)\n",
      "[2020/12/10 22:44:54] - Test Loss: 0.7093, Acc: 0.6564\n"
     ]
    }
   ],
   "source": [
    "%run evaluate_fashion_mnist.py --fname models/pgd_e02.pth --attack \"none\" --epsilon 0.2 --alpha 0.25\n",
    "%run evaluate_fashion_mnist.py --fname models/pgd_e02.pth --attack \"fgsm\" --epsilon 0.2 --alpha 0.25\n",
    "%run evaluate_fashion_mnist.py --fname models/pgd_e02.pth --attack \"fgsm_fast\" --epsilon 0.2 --alpha 0.25\n",
    "%run evaluate_fashion_mnist.py --fname models/pgd_e02.pth --attack \"pgd\" --epsilon 0.2 --alpha 0.25"
   ]
  },
  {
   "cell_type": "code",
   "execution_count": 7,
   "metadata": {},
   "outputs": [
    {
     "name": "stderr",
     "output_type": "stream",
     "text": [
      "[2020/12/11 17:34:36] - Namespace(alpha=0.25, attack='none', attack_iters=40, batch_size=100, data_dir='data', epochs=10, epsilon=0.2, fname='models/none_e02.pth', lr_max=0.005, lr_type='cyclic', seed=0)\n",
      "[2020/12/11 17:34:36] - Epoch \t Time \t LR \t \t Train Loss \t Train Acc\n",
      "[2020/12/11 17:34:44] - 0 \t 8.1 \t 0.0013 \t 0.8340 \t 0.7173\n",
      "[2020/12/11 17:34:52] - 1 \t 8.2 \t 0.0025 \t 0.3885 \t 0.8597\n",
      "[2020/12/11 17:35:00] - 2 \t 8.1 \t 0.0037 \t 0.3171 \t 0.8854\n",
      "[2020/12/11 17:35:08] - 3 \t 8.2 \t 0.0050 \t 0.2800 \t 0.8963\n",
      "[2020/12/11 17:35:17] - 4 \t 8.1 \t 0.0042 \t 0.2475 \t 0.9073\n",
      "[2020/12/11 17:35:25] - 5 \t 8.1 \t 0.0033 \t 0.2057 \t 0.9230\n",
      "[2020/12/11 17:35:33] - 6 \t 8.1 \t 0.0025 \t 0.1687 \t 0.9366\n",
      "[2020/12/11 17:35:41] - 7 \t 8.1 \t 0.0017 \t 0.1340 \t 0.9491\n",
      "[2020/12/11 17:35:49] - 8 \t 8.1 \t 0.0008 \t 0.0968 \t 0.9649\n",
      "[2020/12/11 17:35:57] - 9 \t 8.1 \t 0.0000 \t 0.0687 \t 0.9769\n"
     ]
    }
   ],
   "source": [
    "%run train_fashion_mnist.py --fname models/none_e02.pth --attack \"none\" --epsilon 0.2 --alpha 0.25"
   ]
  },
  {
   "cell_type": "code",
   "execution_count": 8,
   "metadata": {},
   "outputs": [
    {
     "name": "stderr",
     "output_type": "stream",
     "text": [
      "[2020/12/11 17:35:57] - Namespace(alpha=0.25, attack='none', attack_iters=50, batch_size=100, data_dir='data', epsilon=0.2, fname='models/none_e02.pth', restarts=10, seed=0)\n",
      "[2020/12/11 17:35:58] - Test Loss: 0.3189, Acc: 0.9101\n",
      "[2020/12/11 17:35:58] - Namespace(alpha=0.25, attack='fgsm', attack_iters=50, batch_size=100, data_dir='data', epsilon=0.2, fname='models/none_e02.pth', restarts=10, seed=0)\n",
      "[2020/12/11 17:35:59] - Test Loss: 34.7486, Acc: 0.0146\n",
      "[2020/12/11 17:35:59] - Namespace(alpha=0.25, attack='fgsm_fast', attack_iters=50, batch_size=100, data_dir='data', epsilon=0.2, fname='models/none_e02.pth', restarts=10, seed=0)\n",
      "[2020/12/11 17:36:00] - Test Loss: 20.9041, Acc: 0.0237\n",
      "[2020/12/11 17:36:00] - Namespace(alpha=0.25, attack='pgd', attack_iters=40, batch_size=100, data_dir='data', epsilon=0.2, fname='models/none_e02.pth', restarts=10, seed=0)\n",
      "[2020/12/11 17:36:09] - Test Loss: 31.9362, Acc: 0.0000\n"
     ]
    }
   ],
   "source": [
    "%run evaluate_fashion_mnist.py --fname models/none_e02.pth --attack \"none\" --epsilon 0.2 --alpha 0.25\n",
    "%run evaluate_fashion_mnist.py --fname models/none_e02.pth --attack \"fgsm\" --epsilon 0.2 --alpha 0.25\n",
    "%run evaluate_fashion_mnist.py --fname models/none_e02.pth --attack \"fgsm_fast\" --epsilon 0.2 --alpha 0.25\n",
    "%run evaluate_fashion_mnist.py --fname models/none_e02.pth --attack \"pgd\" --epsilon 0.2 --alpha 0.25 --attack-iters 40"
   ]
  }
 ],
 "metadata": {
  "kernelspec": {
   "display_name": "Python 3",
   "language": "python",
   "name": "python3"
  },
  "language_info": {
   "codemirror_mode": {
    "name": "ipython",
    "version": 3
   },
   "file_extension": ".py",
   "mimetype": "text/x-python",
   "name": "python",
   "nbconvert_exporter": "python",
   "pygments_lexer": "ipython3",
   "version": "3.7.4"
  }
 },
 "nbformat": 4,
 "nbformat_minor": 2
}

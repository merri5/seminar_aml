{
 "cells": [
  {
   "cell_type": "code",
   "execution_count": 1,
   "metadata": {},
   "outputs": [],
   "source": [
    "import train_mnist\n",
    "import evaluate_mnist\n",
    "import mnist_net"
   ]
  },
  {
   "cell_type": "markdown",
   "metadata": {},
   "source": [
    "# Train"
   ]
  },
  {
   "cell_type": "code",
   "execution_count": 2,
   "metadata": {},
   "outputs": [
    {
     "name": "stderr",
     "output_type": "stream",
     "text": [
      "[2021/02/12 13:12:24] - Namespace(alpha=0.0, attack='none', attack_iters=0, batch_size=100, data_dir='../mnist-data', epochs=10, epsilon=0.0, fname='models/none.pth', lr_max=0.005, lr_type='cyclic', seed=0)\n",
      "[2021/02/12 13:12:25] - Epoch \t Time \t LR \t \t Train Loss \t Train Acc\n"
     ]
    },
    {
     "name": "stdout",
     "output_type": "stream",
     "text": [
      "none\n"
     ]
    },
    {
     "name": "stderr",
     "output_type": "stream",
     "text": [
      "[2021/02/12 13:12:32] - 0 \t 6.7 \t 0.0013 \t 0.6718 \t 0.8021\n"
     ]
    },
    {
     "name": "stdout",
     "output_type": "stream",
     "text": [
      "none\n"
     ]
    },
    {
     "name": "stderr",
     "output_type": "stream",
     "text": [
      "[2021/02/12 13:12:37] - 1 \t 5.3 \t 0.0025 \t 0.1045 \t 0.9680\n"
     ]
    },
    {
     "name": "stdout",
     "output_type": "stream",
     "text": [
      "none\n"
     ]
    },
    {
     "name": "stderr",
     "output_type": "stream",
     "text": [
      "[2021/02/12 13:12:42] - 2 \t 5.2 \t 0.0037 \t 0.0662 \t 0.9793\n"
     ]
    },
    {
     "name": "stdout",
     "output_type": "stream",
     "text": [
      "none\n"
     ]
    },
    {
     "name": "stderr",
     "output_type": "stream",
     "text": [
      "[2021/02/12 13:12:48] - 3 \t 5.3 \t 0.0050 \t 0.0541 \t 0.9826\n"
     ]
    },
    {
     "name": "stdout",
     "output_type": "stream",
     "text": [
      "none\n"
     ]
    },
    {
     "name": "stderr",
     "output_type": "stream",
     "text": [
      "[2021/02/12 13:12:53] - 4 \t 5.2 \t 0.0042 \t 0.0401 \t 0.9868\n"
     ]
    },
    {
     "name": "stdout",
     "output_type": "stream",
     "text": [
      "none\n"
     ]
    },
    {
     "name": "stderr",
     "output_type": "stream",
     "text": [
      "[2021/02/12 13:12:58] - 5 \t 5.4 \t 0.0033 \t 0.0244 \t 0.9922\n"
     ]
    },
    {
     "name": "stdout",
     "output_type": "stream",
     "text": [
      "none\n"
     ]
    },
    {
     "name": "stderr",
     "output_type": "stream",
     "text": [
      "[2021/02/12 13:13:04] - 6 \t 5.2 \t 0.0025 \t 0.0136 \t 0.9956\n"
     ]
    },
    {
     "name": "stdout",
     "output_type": "stream",
     "text": [
      "none\n"
     ]
    },
    {
     "name": "stderr",
     "output_type": "stream",
     "text": [
      "[2021/02/12 13:13:09] - 7 \t 5.3 \t 0.0017 \t 0.0069 \t 0.9977\n"
     ]
    },
    {
     "name": "stdout",
     "output_type": "stream",
     "text": [
      "none\n"
     ]
    },
    {
     "name": "stderr",
     "output_type": "stream",
     "text": [
      "[2021/02/12 13:13:14] - 8 \t 5.2 \t 0.0008 \t 0.0028 \t 0.9991\n"
     ]
    },
    {
     "name": "stdout",
     "output_type": "stream",
     "text": [
      "none\n"
     ]
    },
    {
     "name": "stderr",
     "output_type": "stream",
     "text": [
      "[2021/02/12 13:13:19] - 9 \t 5.3 \t 0.0000 \t 0.0007 \t 0.9999\n"
     ]
    }
   ],
   "source": [
    "%run train_mnist.py --fname models/none.pth --attack \"none\" --attack-iters 0 --epsilon 0 --alpha 0"
   ]
  },
  {
   "cell_type": "code",
   "execution_count": 4,
   "metadata": {},
   "outputs": [
    {
     "name": "stderr",
     "output_type": "stream",
     "text": [
      "[2020/12/09 18:04:16] - Namespace(alpha=0.375, attack='fgsm', attack_iters=40, batch_size=100, data_dir='../mnist-data', epochs=10, epsilon=0.3, fname='models/fgsm.pth', lr_max=0.005, lr_type='cyclic', seed=0)\n",
      "[2020/12/09 18:04:16] - Epoch \t Time \t LR \t \t Train Loss \t Train Acc\n"
     ]
    },
    {
     "name": "stdout",
     "output_type": "stream",
     "text": [
      "fgsm\n"
     ]
    },
    {
     "name": "stderr",
     "output_type": "stream",
     "text": [
      "[2020/12/09 18:04:26] - 0 \t 9.9 \t 0.0013 \t 1.7465 \t 0.3601\n"
     ]
    },
    {
     "name": "stdout",
     "output_type": "stream",
     "text": [
      "fgsm\n"
     ]
    },
    {
     "name": "stderr",
     "output_type": "stream",
     "text": [
      "[2020/12/09 18:04:36] - 1 \t 9.9 \t 0.0025 \t 0.3985 \t 0.8704\n"
     ]
    },
    {
     "name": "stdout",
     "output_type": "stream",
     "text": [
      "fgsm\n"
     ]
    },
    {
     "name": "stderr",
     "output_type": "stream",
     "text": [
      "[2020/12/09 18:04:46] - 2 \t 9.9 \t 0.0037 \t 0.4850 \t 0.8367\n"
     ]
    },
    {
     "name": "stdout",
     "output_type": "stream",
     "text": [
      "fgsm\n"
     ]
    },
    {
     "name": "stderr",
     "output_type": "stream",
     "text": [
      "[2020/12/09 18:04:56] - 3 \t 9.9 \t 0.0050 \t 0.4875 \t 0.8328\n"
     ]
    },
    {
     "name": "stdout",
     "output_type": "stream",
     "text": [
      "fgsm\n"
     ]
    },
    {
     "name": "stderr",
     "output_type": "stream",
     "text": [
      "[2020/12/09 18:05:06] - 4 \t 10.0 \t 0.0042 \t 0.4554 \t 0.8477\n"
     ]
    },
    {
     "name": "stdout",
     "output_type": "stream",
     "text": [
      "fgsm\n"
     ]
    },
    {
     "name": "stderr",
     "output_type": "stream",
     "text": [
      "[2020/12/09 18:05:15] - 5 \t 9.9 \t 0.0033 \t 0.3990 \t 0.8677\n"
     ]
    },
    {
     "name": "stdout",
     "output_type": "stream",
     "text": [
      "fgsm\n"
     ]
    },
    {
     "name": "stderr",
     "output_type": "stream",
     "text": [
      "[2020/12/09 18:05:25] - 6 \t 9.9 \t 0.0025 \t 0.4243 \t 0.8581\n"
     ]
    },
    {
     "name": "stdout",
     "output_type": "stream",
     "text": [
      "fgsm\n"
     ]
    },
    {
     "name": "stderr",
     "output_type": "stream",
     "text": [
      "[2020/12/09 18:05:35] - 7 \t 10.0 \t 0.0017 \t 0.4135 \t 0.8640\n"
     ]
    },
    {
     "name": "stdout",
     "output_type": "stream",
     "text": [
      "fgsm\n"
     ]
    },
    {
     "name": "stderr",
     "output_type": "stream",
     "text": [
      "[2020/12/09 18:05:45] - 8 \t 9.9 \t 0.0008 \t 0.2788 \t 0.9141\n"
     ]
    },
    {
     "name": "stdout",
     "output_type": "stream",
     "text": [
      "fgsm\n"
     ]
    },
    {
     "name": "stderr",
     "output_type": "stream",
     "text": [
      "[2020/12/09 18:05:55] - 9 \t 9.9 \t 0.0000 \t 0.2120 \t 0.9392\n"
     ]
    }
   ],
   "source": [
    "%run train_mnist.py --fname models/fgsm.pth --attack \"fgsm\""
   ]
  },
  {
   "cell_type": "code",
   "execution_count": 5,
   "metadata": {},
   "outputs": [
    {
     "name": "stderr",
     "output_type": "stream",
     "text": [
      "[2020/12/09 18:05:55] - Namespace(alpha=0.375, attack='fgsm_fast', attack_iters=40, batch_size=100, data_dir='../mnist-data', epochs=10, epsilon=0.3, fname='models/fgsm_fast.pth', lr_max=0.005, lr_type='cyclic', seed=0)\n",
      "[2020/12/09 18:05:55] - Epoch \t Time \t LR \t \t Train Loss \t Train Acc\n"
     ]
    },
    {
     "name": "stdout",
     "output_type": "stream",
     "text": [
      "fgsm_fast\n"
     ]
    },
    {
     "name": "stderr",
     "output_type": "stream",
     "text": [
      "[2020/12/09 18:06:05] - 0 \t 10.0 \t 0.0013 \t 1.9565 \t 0.2766\n"
     ]
    },
    {
     "name": "stdout",
     "output_type": "stream",
     "text": [
      "fgsm_fast\n"
     ]
    },
    {
     "name": "stderr",
     "output_type": "stream",
     "text": [
      "[2020/12/09 18:06:15] - 1 \t 9.9 \t 0.0025 \t 0.8810 \t 0.6965\n"
     ]
    },
    {
     "name": "stdout",
     "output_type": "stream",
     "text": [
      "fgsm_fast\n"
     ]
    },
    {
     "name": "stderr",
     "output_type": "stream",
     "text": [
      "[2020/12/09 18:06:25] - 2 \t 10.0 \t 0.0037 \t 0.5107 \t 0.8334\n"
     ]
    },
    {
     "name": "stdout",
     "output_type": "stream",
     "text": [
      "fgsm_fast\n"
     ]
    },
    {
     "name": "stderr",
     "output_type": "stream",
     "text": [
      "[2020/12/09 18:06:35] - 3 \t 10.0 \t 0.0050 \t 0.3593 \t 0.8841\n"
     ]
    },
    {
     "name": "stdout",
     "output_type": "stream",
     "text": [
      "fgsm_fast\n"
     ]
    },
    {
     "name": "stderr",
     "output_type": "stream",
     "text": [
      "[2020/12/09 18:06:45] - 4 \t 10.0 \t 0.0042 \t 0.2674 \t 0.9138\n"
     ]
    },
    {
     "name": "stdout",
     "output_type": "stream",
     "text": [
      "fgsm_fast\n"
     ]
    },
    {
     "name": "stderr",
     "output_type": "stream",
     "text": [
      "[2020/12/09 18:06:55] - 5 \t 9.9 \t 0.0033 \t 0.2243 \t 0.9269\n"
     ]
    },
    {
     "name": "stdout",
     "output_type": "stream",
     "text": [
      "fgsm_fast\n"
     ]
    },
    {
     "name": "stderr",
     "output_type": "stream",
     "text": [
      "[2020/12/09 18:07:05] - 6 \t 10.0 \t 0.0025 \t 0.1980 \t 0.9364\n"
     ]
    },
    {
     "name": "stdout",
     "output_type": "stream",
     "text": [
      "fgsm_fast\n"
     ]
    },
    {
     "name": "stderr",
     "output_type": "stream",
     "text": [
      "[2020/12/09 18:07:15] - 7 \t 10.0 \t 0.0017 \t 0.1799 \t 0.9417\n"
     ]
    },
    {
     "name": "stdout",
     "output_type": "stream",
     "text": [
      "fgsm_fast\n"
     ]
    },
    {
     "name": "stderr",
     "output_type": "stream",
     "text": [
      "[2020/12/09 18:07:25] - 8 \t 9.9 \t 0.0008 \t 0.1617 \t 0.9483\n"
     ]
    },
    {
     "name": "stdout",
     "output_type": "stream",
     "text": [
      "fgsm_fast\n"
     ]
    },
    {
     "name": "stderr",
     "output_type": "stream",
     "text": [
      "[2020/12/09 18:07:35] - 9 \t 9.9 \t 0.0000 \t 0.1461 \t 0.9523\n"
     ]
    }
   ],
   "source": [
    "%run train_mnist.py --fname models/fgsm_fast.pth --attack \"fgsm_fast\""
   ]
  },
  {
   "cell_type": "code",
   "execution_count": 6,
   "metadata": {},
   "outputs": [
    {
     "name": "stderr",
     "output_type": "stream",
     "text": [
      "[2020/12/09 18:07:35] - Namespace(alpha=0.375, attack='pgd', attack_iters=40, batch_size=100, data_dir='../mnist-data', epochs=10, epsilon=0.3, fname='models/pgd.pth', lr_max=0.005, lr_type='cyclic', seed=0)\n",
      "[2020/12/09 18:07:35] - Epoch \t Time \t LR \t \t Train Loss \t Train Acc\n"
     ]
    },
    {
     "name": "stdout",
     "output_type": "stream",
     "text": [
      "pgd\n"
     ]
    },
    {
     "name": "stderr",
     "output_type": "stream",
     "text": [
      "[2020/12/09 18:09:29] - 0 \t 113.8 \t 0.0013 \t 1.6435 \t 0.2051\n"
     ]
    },
    {
     "name": "stdout",
     "output_type": "stream",
     "text": [
      "pgd\n"
     ]
    },
    {
     "name": "stderr",
     "output_type": "stream",
     "text": [
      "[2020/12/09 18:11:24] - 1 \t 115.0 \t 0.0025 \t 0.7087 \t 0.6065\n"
     ]
    },
    {
     "name": "stdout",
     "output_type": "stream",
     "text": [
      "pgd\n"
     ]
    },
    {
     "name": "stderr",
     "output_type": "stream",
     "text": [
      "[2020/12/09 18:13:18] - 2 \t 114.6 \t 0.0037 \t 0.3689 \t 0.8093\n"
     ]
    },
    {
     "name": "stdout",
     "output_type": "stream",
     "text": [
      "pgd\n"
     ]
    },
    {
     "name": "stderr",
     "output_type": "stream",
     "text": [
      "[2020/12/09 18:15:13] - 3 \t 114.8 \t 0.0050 \t 0.2475 \t 0.8727\n"
     ]
    },
    {
     "name": "stdout",
     "output_type": "stream",
     "text": [
      "pgd\n"
     ]
    },
    {
     "name": "stderr",
     "output_type": "stream",
     "text": [
      "[2020/12/09 18:17:07] - 4 \t 114.4 \t 0.0042 \t 0.1967 \t 0.8996\n"
     ]
    },
    {
     "name": "stdout",
     "output_type": "stream",
     "text": [
      "pgd\n"
     ]
    },
    {
     "name": "stderr",
     "output_type": "stream",
     "text": [
      "[2020/12/09 18:19:02] - 5 \t 114.2 \t 0.0033 \t 0.1638 \t 0.9153\n"
     ]
    },
    {
     "name": "stdout",
     "output_type": "stream",
     "text": [
      "pgd\n"
     ]
    },
    {
     "name": "stderr",
     "output_type": "stream",
     "text": [
      "[2020/12/09 18:20:57] - 6 \t 115.4 \t 0.0025 \t 0.1431 \t 0.9254\n"
     ]
    },
    {
     "name": "stdout",
     "output_type": "stream",
     "text": [
      "pgd\n"
     ]
    },
    {
     "name": "stderr",
     "output_type": "stream",
     "text": [
      "[2020/12/09 18:22:53] - 7 \t 115.5 \t 0.0017 \t 0.1248 \t 0.9333\n"
     ]
    },
    {
     "name": "stdout",
     "output_type": "stream",
     "text": [
      "pgd\n"
     ]
    },
    {
     "name": "stderr",
     "output_type": "stream",
     "text": [
      "[2020/12/09 18:24:47] - 8 \t 114.7 \t 0.0008 \t 0.1075 \t 0.9440\n"
     ]
    },
    {
     "name": "stdout",
     "output_type": "stream",
     "text": [
      "pgd\n"
     ]
    },
    {
     "name": "stderr",
     "output_type": "stream",
     "text": [
      "[2020/12/09 18:26:43] - 9 \t 115.2 \t 0.0000 \t 0.0903 \t 0.9530\n"
     ]
    }
   ],
   "source": [
    "%run train_mnist.py --fname models/pgd.pth --attack \"pgd\""
   ]
  },
  {
   "cell_type": "markdown",
   "metadata": {},
   "source": [
    "# Evaluate"
   ]
  },
  {
   "cell_type": "code",
   "execution_count": 17,
   "metadata": {},
   "outputs": [
    {
     "name": "stderr",
     "output_type": "stream",
     "text": [
      "[2020/12/09 18:52:36] - Namespace(alpha=0.01, attack='none', attack_iters=50, batch_size=100, data_dir='../mnist-data', epsilon=0.3, fname='models/fgsm.pth', restarts=10, seed=0)\n",
      "[2020/12/09 18:52:37] - Test Loss: 0.1778, Acc: 0.9419\n",
      "[2020/12/09 18:52:37] - Namespace(alpha=0.01, attack='fgsm', attack_iters=50, batch_size=100, data_dir='../mnist-data', epsilon=0.3, fname='models/fgsm.pth', restarts=10, seed=0)\n",
      "[2020/12/09 18:52:38] - Test Loss: 0.3817, Acc: 0.8768\n",
      "[2020/12/09 18:52:38] - Namespace(alpha=0.01, attack='fgsm_fast', attack_iters=50, batch_size=100, data_dir='../mnist-data', epsilon=0.3, fname='models/fgsm.pth', restarts=10, seed=0)\n",
      "[2020/12/09 18:52:40] - Test Loss: 0.1511, Acc: 0.9521\n",
      "[2020/12/09 18:52:40] - Namespace(alpha=0.01, attack='pgd', attack_iters=50, batch_size=100, data_dir='../mnist-data', epsilon=0.3, fname='models/fgsm.pth', restarts=10, seed=0)\n",
      "[2020/12/09 18:53:55] - Test Loss: 1.5946, Acc: 0.0000\n"
     ]
    }
   ],
   "source": [
    "%run evaluate_mnist.py --fname models/fgsm.pth --attack \"none\"\n",
    "%run evaluate_mnist.py --fname models/fgsm.pth --attack \"fgsm\"\n",
    "%run evaluate_mnist.py --fname models/fgsm.pth --attack \"fgsm_fast\"\n",
    "%run evaluate_mnist.py --fname models/fgsm.pth --attack \"pgd\""
   ]
  },
  {
   "cell_type": "code",
   "execution_count": 18,
   "metadata": {},
   "outputs": [
    {
     "name": "stderr",
     "output_type": "stream",
     "text": [
      "[2020/12/09 18:53:55] - Namespace(alpha=0.01, attack='none', attack_iters=50, batch_size=100, data_dir='../mnist-data', epsilon=0.3, fname='models/fgsm_fast.pth', restarts=10, seed=0)\n",
      "[2020/12/09 18:53:56] - Test Loss: 0.0460, Acc: 0.9846\n",
      "[2020/12/09 18:53:56] - Namespace(alpha=0.01, attack='fgsm', attack_iters=50, batch_size=100, data_dir='../mnist-data', epsilon=0.3, fname='models/fgsm_fast.pth', restarts=10, seed=0)\n",
      "[2020/12/09 18:53:57] - Test Loss: 0.1771, Acc: 0.9414\n",
      "[2020/12/09 18:53:57] - Namespace(alpha=0.01, attack='fgsm_fast', attack_iters=50, batch_size=100, data_dir='../mnist-data', epsilon=0.3, fname='models/fgsm_fast.pth', restarts=10, seed=0)\n",
      "[2020/12/09 18:53:58] - Test Loss: 0.0532, Acc: 0.9811\n",
      "[2020/12/09 18:53:58] - Namespace(alpha=0.01, attack='pgd', attack_iters=50, batch_size=100, data_dir='../mnist-data', epsilon=0.3, fname='models/fgsm_fast.pth', restarts=10, seed=0)\n",
      "[2020/12/09 18:56:50] - Test Loss: 0.2096, Acc: 0.8741\n"
     ]
    }
   ],
   "source": [
    "%run evaluate_mnist.py --fname models/fgsm_fast.pth --attack \"none\"\n",
    "%run evaluate_mnist.py --fname models/fgsm_fast.pth --attack \"fgsm\"\n",
    "%run evaluate_mnist.py --fname models/fgsm_fast.pth --attack \"fgsm_fast\"\n",
    "%run evaluate_mnist.py --fname models/fgsm_fast.pth --attack \"pgd\""
   ]
  },
  {
   "cell_type": "code",
   "execution_count": 19,
   "metadata": {},
   "outputs": [
    {
     "name": "stderr",
     "output_type": "stream",
     "text": [
      "[2020/12/09 18:56:50] - Namespace(alpha=0.01, attack='none', attack_iters=50, batch_size=100, data_dir='../mnist-data', epsilon=0.3, fname='models/pgd.pth', restarts=10, seed=0)\n",
      "[2020/12/09 18:56:51] - Test Loss: 0.0321, Acc: 0.9892\n",
      "[2020/12/09 18:56:51] - Namespace(alpha=0.01, attack='fgsm', attack_iters=50, batch_size=100, data_dir='../mnist-data', epsilon=0.3, fname='models/pgd.pth', restarts=10, seed=0)\n",
      "[2020/12/09 18:56:52] - Test Loss: 0.0922, Acc: 0.9722\n",
      "[2020/12/09 18:56:52] - Namespace(alpha=0.01, attack='fgsm_fast', attack_iters=50, batch_size=100, data_dir='../mnist-data', epsilon=0.3, fname='models/pgd.pth', restarts=10, seed=0)\n",
      "[2020/12/09 18:56:53] - Test Loss: 0.0369, Acc: 0.9883\n",
      "[2020/12/09 18:56:53] - Namespace(alpha=0.01, attack='pgd', attack_iters=50, batch_size=100, data_dir='../mnist-data', epsilon=0.3, fname='models/pgd.pth', restarts=10, seed=0)\n",
      "[2020/12/09 18:59:45] - Test Loss: 0.1211, Acc: 0.9286\n"
     ]
    }
   ],
   "source": [
    "%run evaluate_mnist.py --fname models/pgd.pth --attack \"none\"\n",
    "%run evaluate_mnist.py --fname models/pgd.pth --attack \"fgsm\"\n",
    "%run evaluate_mnist.py --fname models/pgd.pth --attack \"fgsm_fast\"\n",
    "%run evaluate_mnist.py --fname models/pgd.pth --attack \"pgd\""
   ]
  },
  {
   "cell_type": "code",
   "execution_count": 31,
   "metadata": {},
   "outputs": [
    {
     "name": "stderr",
     "output_type": "stream",
     "text": [
      "[2020/12/09 19:33:03] - Namespace(alpha=0.375, attack='none', attack_iters=50, batch_size=100, data_dir='../mnist-data', epsilon=0.3, fname='models/none2.pth', restarts=10, seed=0)\n",
      "[2020/12/09 19:33:04] - Test Loss: 0.0361, Acc: 0.9912\n",
      "[2020/12/09 19:33:04] - Namespace(alpha=0.375, attack='fgsm', attack_iters=50, batch_size=100, data_dir='../mnist-data', epsilon=0.3, fname='models/none2.pth', restarts=10, seed=0)\n",
      "[2020/12/09 19:33:05] - Test Loss: 17.5106, Acc: 0.1171\n",
      "[2020/12/09 19:33:05] - Namespace(alpha=0.375, attack='fgsm_fast', attack_iters=50, batch_size=100, data_dir='../mnist-data', epsilon=0.3, fname='models/none2.pth', restarts=10, seed=0)\n",
      "[2020/12/09 19:33:06] - Test Loss: 9.3854, Acc: 0.1754\n"
     ]
    }
   ],
   "source": [
    "%run evaluate_mnist.py --fname models/none.pth --attack \"none\" --alpha 0.375\n",
    "%run evaluate_mnist.py --fname models/none.pth --attack \"fgsm\" --alpha 0.375\n",
    "%run evaluate_mnist.py --fname models/none.pth --attack \"fgsm_fast\" --alpha 0.375"
   ]
  },
  {
   "cell_type": "code",
   "execution_count": 32,
   "metadata": {},
   "outputs": [
    {
     "name": "stderr",
     "output_type": "stream",
     "text": [
      "[2020/12/09 19:33:53] - Namespace(alpha=0.375, attack='pgd', attack_iters=50, batch_size=100, data_dir='../mnist-data', epsilon=0.3, fname='models/none2.pth', restarts=10, seed=0)\n",
      "[2020/12/09 19:34:07] - Test Loss: 18.5041, Acc: 0.0000\n"
     ]
    }
   ],
   "source": [
    "%run evaluate_mnist.py --fname models/none2.pth --attack \"pgd\" --alpha 0.375"
   ]
  }
 ],
 "metadata": {
  "kernelspec": {
   "display_name": "Python 3",
   "language": "python",
   "name": "python3"
  },
  "language_info": {
   "codemirror_mode": {
    "name": "ipython",
    "version": 3
   },
   "file_extension": ".py",
   "mimetype": "text/x-python",
   "name": "python",
   "nbconvert_exporter": "python",
   "pygments_lexer": "ipython3",
   "version": "3.7.4"
  }
 },
 "nbformat": 4,
 "nbformat_minor": 2
}
